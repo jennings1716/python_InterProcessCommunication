{
 "cells": [
  {
   "cell_type": "markdown",
   "metadata": {},
   "source": [
    "# Socket"
   ]
  },
  {
   "cell_type": "markdown",
   "metadata": {},
   "source": [
    "A socket is an endpoint for communication between two machines.\n",
    "\n",
    "Socket is nothing but a pipe that will deliver the stuff from one end to another end.\n",
    "\n",
    "The medium can be the Local Area Newtork, Wide Area Network or the Internet.\n",
    "\n",
    "Sockets can use both TCP and UDP protocols.\n",
    "\n",
    "SERVER: A server is a machine that waits for client requests and serves or processes them.\n",
    "\n",
    "CLIENT: A client on the other hand is the requester of the service."
   ]
  },
  {
   "cell_type": "raw",
   "metadata": {},
   "source": [
    "#SERVER\n",
    "import socket\n",
    " \n",
    "def Main():\n",
    "    host = \"127.0.0.1\"\n",
    "    port = 5000\n",
    "     \n",
    "    mySocket = socket.socket()  #Socket Bind Listen Accept\n",
    "    mySocket.bind((host,port))\n",
    "     \n",
    "    mySocket.listen(1)\n",
    "    conn, addr = mySocket.accept()\n",
    "    print (\"Connection from: \" + str(addr))\n",
    "    while True:\n",
    "            data = conn.recv(1024).decode()\n",
    "            if not data:\n",
    "                    break\n",
    "            print (\"from connected  user: \" + str(data))\n",
    "             \n",
    "            data = str(data).upper()\n",
    "            print (\"sending: \" + str(data))\n",
    "            conn.send(data.encode())\n",
    "             \n",
    "    conn.close()\n",
    "     \n",
    "if __name__ == '__main__':\n",
    "    Main()"
   ]
  },
  {
   "cell_type": "raw",
   "metadata": {},
   "source": [
    "#CLIENT\n",
    "import socket\n",
    " \n",
    "def Main():\n",
    "        host = '127.0.0.1'\n",
    "        port = 5000\n",
    "         \n",
    "        mySocket = socket.socket()\n",
    "        mySocket.connect((host,port))\n",
    "         \n",
    "        message = input(\" -> \")\n",
    "         \n",
    "        while message != 'q':\n",
    "                mySocket.send(message.encode())\n",
    "                data = mySocket.recv(1024).decode()\n",
    "                print ('Received from server: ' + data)\n",
    "                message = input(\" -> \")\n",
    "                 \n",
    "        mySocket.close()\n",
    " \n",
    "if __name__ == '__main__':\n",
    "    Main()"
   ]
  },
  {
   "cell_type": "code",
   "execution_count": null,
   "metadata": {},
   "outputs": [],
   "source": []
  }
 ],
 "metadata": {
  "kernelspec": {
   "display_name": "Python 3",
   "language": "python",
   "name": "python3"
  },
  "language_info": {
   "codemirror_mode": {
    "name": "ipython",
    "version": 3
   },
   "file_extension": ".py",
   "mimetype": "text/x-python",
   "name": "python",
   "nbconvert_exporter": "python",
   "pygments_lexer": "ipython3",
   "version": "3.5.2"
  }
 },
 "nbformat": 4,
 "nbformat_minor": 2
}
