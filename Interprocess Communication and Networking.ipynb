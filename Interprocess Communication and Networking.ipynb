{
 "cells": [
  {
   "cell_type": "markdown",
   "metadata": {},
   "source": [
    "# Interprocess Communication and Networking"
   ]
  },
  {
   "cell_type": "markdown",
   "metadata": {},
   "source": [
    "## What is a process?\n",
    "A process is a program in execution.\n",
    "\n",
    "What is a program? \n",
    "A program is a file containing the information of a process and how to build it during run time.\n",
    "When you start execution of the program, it is loaded into RAM and starts executing."
   ]
  },
  {
   "cell_type": "markdown",
   "metadata": {},
   "source": [
    "## Inter Process Communication"
   ]
  },
  {
   "cell_type": "markdown",
   "metadata": {},
   "source": [
    "Inter Process Communication (IPC) refers to a mechanism, where the operating systems allow various processes to communicate with each other. \n",
    "This involves synchronizing their actions and managing shared data.\n",
    "This usually occurs only in one system.\n",
    "\n",
    "Communication can be of two types −\n",
    "\n",
    "1. Between related processes initiating from only one process, such as parent and child processes.\n",
    "\n",
    "2. Between unrelated processes, or two or more different processes."
   ]
  },
  {
   "cell_type": "markdown",
   "metadata": {},
   "source": [
    "## Pipes \n",
    "Communication between two related processes. The mechanism is HALF DUPLEX meaning the first process communicates with the second process.\n",
    "To achieve a full duplex i.e., for the second process to communicate with the first process another pipe is required."
   ]
  },
  {
   "cell_type": "markdown",
   "metadata": {},
   "source": [
    "## FIFO \n",
    "Communication between two unrelated processes. FIFO is a FULL DUPLEX , meaning the first process can communicate with the second process and vice versa at the same time."
   ]
  },
  {
   "cell_type": "markdown",
   "metadata": {},
   "source": [
    "## Shared Memory \n",
    "Communication between two or more processes is achieved through a shared piece of memory among all processes. \n",
    "The shared memory needs to be protected from each other by synchronizing access to all the processes"
   ]
  },
  {
   "cell_type": "markdown",
   "metadata": {},
   "source": [
    "## Semaphores \n",
    " Semaphores are meant for synchronizing access to multiple processes. When one process wants to access the memory (for reading or writing), it needs to be locked (or protected) and released when the access is removed. This needs to be repeated by all the processes to secure data"
   ]
  },
  {
   "cell_type": "markdown",
   "metadata": {},
   "source": [
    "## Signals \n",
    "Signal is a mechanism to communication between multiple processes by way of signaling. This means a source process will send a signal (recognized by number) and the destination process will handle it accordingly."
   ]
  },
  {
   "cell_type": "code",
   "execution_count": null,
   "metadata": {},
   "outputs": [],
   "source": []
  }
 ],
 "metadata": {
  "kernelspec": {
   "display_name": "Python 3",
   "language": "python",
   "name": "python3"
  },
  "language_info": {
   "codemirror_mode": {
    "name": "ipython",
    "version": 3
   },
   "file_extension": ".py",
   "mimetype": "text/x-python",
   "name": "python",
   "nbconvert_exporter": "python",
   "pygments_lexer": "ipython3",
   "version": "3.5.2"
  }
 },
 "nbformat": 4,
 "nbformat_minor": 2
}
